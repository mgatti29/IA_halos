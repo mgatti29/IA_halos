{
 "cells": [
  {
   "cell_type": "markdown",
   "id": "79492835-4c1b-44ca-8e28-7cfd6821067d",
   "metadata": {},
   "source": [
    "# Summary"
   ]
  },
  {
   "cell_type": "markdown",
   "id": "fb4087ea-6908-4567-9db2-6b9d611fb1d5",
   "metadata": {},
   "source": [
    "Below, we take a small table and go through the process of aligning and projecting the galaxies.</br>\n",
    "We assume we are given a galaxy table with 3D information. However, if we only have RA, dec, and redshift, as well as the cosmology used,</br>\n",
    "there is a function in modular_alignment.py to get cartesian coordinates from that.</br></br>\n",
    "\n",
    "This process is also shown in the inject_ia_to_lightcone function in modular_alignmnet.py, but hopefully this representation</br>\n",
    "is clearer and easier to follow."
   ]
  },
  {
   "cell_type": "markdown",
   "id": "7e5eea72-51bf-402e-a219-c08cbe0b6a32",
   "metadata": {},
   "source": [
    "# Import and Setup"
   ]
  },
  {
   "cell_type": "code",
   "execution_count": 1,
   "id": "ef9d4f21-f91b-467c-b9d6-e5758f66ff1b",
   "metadata": {},
   "outputs": [],
   "source": [
    "from modular_alignment import align_to_halo, align_radially, get_galaxy_positions, project_alignments_with_NCP, get_position_angle\n",
    "from astropy.io import ascii\n",
    "import numpy as np"
   ]
  },
  {
   "cell_type": "code",
   "execution_count": 2,
   "id": "544f7241-ce45-404a-983e-69ea2e978951",
   "metadata": {},
   "outputs": [],
   "source": [
    "# This dict is just a mapping between what I call the value and the key used in the astropy table\n",
    "# Maybe a slight bit hacky, but it lets me use a consistent naming scheme as long as the user provides some similar dict\n",
    "\n",
    "table_keys = {\n",
    "    \"ra\" : \"ra_true\",                                                   # RA\n",
    "    \"dec\" : \"dec_true\",                                                 # dec\n",
    "    \"redshift\" : \"redshiftHubble\",                                      # Redshift\n",
    "    \"x\" : \"x\",\n",
    "    \"y\" : \"y\",\n",
    "    \"z\" : \"z\",\n",
    "    \"halo_x\" : \"baseDC2/target_halo_x\",\n",
    "    \"halo_y\" : \"baseDC2/target_halo_y\",\n",
    "    \"halo_z\" : \"baseDC2/target_halo_z\",\n",
    "    \"halo_axisA_x\" : \"baseDC2/target_halo_axis_A_x\",\n",
    "    \"halo_axisA_y\" : \"baseDC2/target_halo_axis_A_y\",\n",
    "    \"halo_axisA_z\" : \"baseDC2/target_halo_axis_A_z\",\n",
    "    \"halo_mvir\" : \"baseDC2/host_halo_mvir\",\n",
    "    \"isCentral\" : \"isCentral\",\n",
    "    \"ellipticity\" : \"morphology/totalEllipticity\",\n",
    "    \"e1\" : \"morphology/totalEllipticity1\",\n",
    "    \"e2\" : \"morphology/totalEllipticity2\",\n",
    "    \"gamma1\" : \"shear1\",\n",
    "    \"gamma2\" : \"shear2\",\n",
    "    \"g\" : \"mag_true_g\",\n",
    "    \"r\" : \"mag_true_r\",\n",
    "    \"stellar_mass\" : \"stellar_mass\",\n",
    "    \"s11\" : \"tidal_s_11\",\n",
    "    \"s12\" : \"tidal_s_12\",\n",
    "    \"s22\" : \"tidal_s_22\"\n",
    "}"
   ]
  },
  {
   "cell_type": "markdown",
   "id": "7f99f0fc-f444-4ef5-a486-83c63ce4ceec",
   "metadata": {},
   "source": [
    "Read in a short example table.</br>\n",
    "One central galaxy and two satellites (not necessarily related)"
   ]
  },
  {
   "cell_type": "code",
   "execution_count": 3,
   "id": "b16b72a6-0bb1-47f1-9a18-71e0b705bf43",
   "metadata": {},
   "outputs": [],
   "source": [
    "data = ascii.read(\"short_table.dat\")\n",
    "data[\"isCentral\"] = data[\"isCentral\"] == \"True\""
   ]
  },
  {
   "cell_type": "code",
   "execution_count": 4,
   "id": "f371a838-6827-44c9-a26c-efcdb435ee6b",
   "metadata": {},
   "outputs": [
    {
     "data": {
      "text/html": [
       "<div><i>Table length=3</i>\n",
       "<table id=\"table140197567341088\" class=\"table-striped table-bordered table-condensed\">\n",
       "<thead><tr><th>ra_true</th><th>dec_true</th><th>redshiftHubble</th><th>x</th><th>y</th><th>z</th><th>baseDC2/target_halo_x</th><th>baseDC2/target_halo_y</th><th>baseDC2/target_halo_z</th><th>baseDC2/target_halo_axis_A_x</th><th>baseDC2/target_halo_axis_A_y</th><th>baseDC2/target_halo_axis_A_z</th><th>baseDC2/host_halo_mvir</th><th>baseDC2/target_halo_mass</th><th>isCentral</th><th>morphology/totalEllipticity</th><th>morphology/totalEllipticity1</th><th>morphology/totalEllipticity2</th><th>shear1</th><th>shear2</th><th>mag_true_g</th><th>mag_true_r</th><th>stellar_mass</th><th>tidal_s_11</th><th>tidal_s_12</th><th>tidal_s_22</th></tr></thead>\n",
       "<thead><tr><th>float64</th><th>float64</th><th>float64</th><th>float64</th><th>float64</th><th>float64</th><th>float64</th><th>float64</th><th>float64</th><th>float64</th><th>float64</th><th>float64</th><th>float64</th><th>float64</th><th>bool</th><th>float64</th><th>float64</th><th>float64</th><th>float64</th><th>float64</th><th>float64</th><th>float64</th><th>float64</th><th>float64</th><th>float64</th><th>float64</th></tr></thead>\n",
       "<tr><td>0.6554793009305763</td><td>-40.187277441739155</td><td>0.20298659801483154</td><td>445.3499755859375</td><td>5.095147132873535</td><td>-376.2050476074219</td><td>445.3499755859375</td><td>5.095147132873535</td><td>-376.2050476074219</td><td>-0.06459414886164111</td><td>-0.054491909701089906</td><td>0.12305640417054158</td><td>126449999872.0</td><td>158923784192.0</td><td>True</td><td>0.5069335103034973</td><td>-0.4976382255554199</td><td>0.0966322124004364</td><td>-0.0010780795044078029</td><td>-0.0001935919043020633</td><td>22.277347564697266</td><td>21.623077392578125</td><td>475602400.0</td><td>-0.2818889944672113</td><td>0.40005400124426527</td><td>0.38830382637543054</td></tr>\n",
       "<tr><td>0.702982389058322</td><td>-39.47357707949621</td><td>0.20586907863616943</td><td>456.1093484190837</td><td>5.596449378418383</td><td>-375.6626645289206</td><td>456.0932922363281</td><td>5.665058135986328</td><td>-375.6200256347656</td><td>0.3174143488982946</td><td>-0.051942194453338246</td><td>0.2659174734755303</td><td>2824100118528.0</td><td>3472242507776.0</td><td>False</td><td>0.03980273753404617</td><td>-0.01758822798728943</td><td>0.03570591285824776</td><td>4.247972215298823e-05</td><td>-0.001404673295386511</td><td>22.53379249572754</td><td>21.499557495117188</td><td>1453857664.0</td><td>0.2174605605253552</td><td>0.36815189641080087</td><td>0.8146693157568672</td></tr>\n",
       "<tr><td>0.7200102146955414</td><td>-39.482723243105056</td><td>0.20586907863616943</td><td>456.02346422424995</td><td>5.730942836655683</td><td>-375.71550924438276</td><td>456.0932922363281</td><td>5.665058135986328</td><td>-375.6200256347656</td><td>0.3174143488982946</td><td>-0.051942194453338246</td><td>0.2659174734755303</td><td>2824100118528.0</td><td>3472242507776.0</td><td>False</td><td>0.45927709341049194</td><td>0.20627683401107788</td><td>-0.4103478193283081</td><td>-2.3903166125993636e-05</td><td>-0.0009506534437888547</td><td>21.415847778320312</td><td>20.174400329589844</td><td>7387039232.0</td><td>-0.0837378781577978</td><td>0.4144596483241478</td><td>0.6740889367478052</td></tr>\n",
       "</table></div>"
      ],
      "text/plain": [
       "<Table length=3>\n",
       "     ra_true             dec_true         redshiftHubble           x          ... stellar_mass      tidal_s_11          tidal_s_12          tidal_s_22    \n",
       "     float64             float64             float64            float64       ...   float64          float64             float64             float64      \n",
       "------------------ ------------------- ------------------- ------------------ ... ------------ ------------------- ------------------- -------------------\n",
       "0.6554793009305763 -40.187277441739155 0.20298659801483154  445.3499755859375 ...  475602400.0 -0.2818889944672113 0.40005400124426527 0.38830382637543054\n",
       " 0.702982389058322  -39.47357707949621 0.20586907863616943  456.1093484190837 ... 1453857664.0  0.2174605605253552 0.36815189641080087  0.8146693157568672\n",
       "0.7200102146955414 -39.482723243105056 0.20586907863616943 456.02346422424995 ... 7387039232.0 -0.0837378781577978  0.4144596483241478  0.6740889367478052"
      ]
     },
     "execution_count": 4,
     "metadata": {},
     "output_type": "execute_result"
    }
   ],
   "source": [
    "data"
   ]
  },
  {
   "cell_type": "markdown",
   "id": "d60aebf7-ee05-426c-996a-831e1fe5c427",
   "metadata": {},
   "source": [
    "# Align"
   ]
  },
  {
   "cell_type": "markdown",
   "id": "b22c3942-3ceb-4152-8979-d64d93be1e78",
   "metadata": {
    "jp-MarkdownHeadingCollapsed": true,
    "tags": []
   },
   "source": [
    "## Get the right variables"
   ]
  },
  {
   "cell_type": "markdown",
   "id": "d7b04ca0-0d78-4ee8-9c8c-b008a1f3b62f",
   "metadata": {},
   "source": [
    "### From the data table\n",
    "Here, I am grabbing them from an existing galaxy catalog. However, as long as you get these values (regardless of how), that's all the next step needs."
   ]
  },
  {
   "cell_type": "code",
   "execution_count": 5,
   "id": "0cb6c38f-288d-47c6-8918-f30eceab2efb",
   "metadata": {},
   "outputs": [],
   "source": [
    "# First, get the mask for central galaxies\n",
    "central_mask = data[\"isCentral\"]\n",
    "\n",
    "# Second, get the values from the appropriate columns\n",
    "# Here's where that weird dict above comes in handy\n",
    "\n",
    "# Major axes\n",
    "halo_axisA_x = data[ table_keys[\"halo_axisA_x\"] ]                # Grab the column with whatever the catalog's version of \"halo_axisA_x\" is called\n",
    "halo_axisA_y = data[ table_keys[\"halo_axisA_y\"] ]\n",
    "halo_axisA_z = data[ table_keys[\"halo_axisA_z\"] ]\n",
    "\n",
    "# Central/Parent halo positions\n",
    "halo_x = data[ table_keys[\"halo_x\"] ]\n",
    "halo_y = data[ table_keys[\"halo_y\"] ]\n",
    "halo_z = data[ table_keys[\"halo_z\"] ]\n",
    "\n",
    "# Galaxy positions\n",
    "x = data[ table_keys[\"x\"] ]\n",
    "y = data[ table_keys[\"y\"] ]\n",
    "z = data[ table_keys[\"z\"] ]"
   ]
  },
  {
   "cell_type": "code",
   "execution_count": null,
   "id": "50f584a7",
   "metadata": {},
   "outputs": [],
   "source": []
  },
  {
   "cell_type": "markdown",
   "id": "c7acab40-82d0-42bc-b8a1-e26b83ecd750",
   "metadata": {},
   "source": [
    "### Extra variables\n",
    "We also need alignment strengths and the box size"
   ]
  },
  {
   "cell_type": "code",
   "execution_count": 6,
   "id": "00febb5e-1e69-4ae3-be87-be03945c1e7b",
   "metadata": {},
   "outputs": [],
   "source": [
    "central_alignment_strength = 0.8\n",
    "satellite_alignment_strength=0.5\n",
    "\n",
    "Lbox = np.array([500., 500., 500.])"
   ]
  },
  {
   "cell_type": "code",
   "execution_count": 17,
   "id": "f548b254",
   "metadata": {},
   "outputs": [
    {
     "data": {
      "text/html": [
       "&lt;Column name=&apos;baseDC2/target_halo_axis_A_x&apos; dtype=&apos;float64&apos; length=1&gt;\n",
       "<table>\n",
       "<tr><td>-0.06459414886164111</td></tr>\n",
       "</table>"
      ],
      "text/plain": [
       "<Column name='baseDC2/target_halo_axis_A_x' dtype='float64' length=1>\n",
       "-0.06459414886164111"
      ]
     },
     "execution_count": 17,
     "metadata": {},
     "output_type": "execute_result"
    }
   ],
   "source": [
    "halo_axisA_x[central_mask]"
   ]
  },
  {
   "cell_type": "markdown",
   "id": "e1b8b694-55a8-4591-b156-f8da08fbad0f",
   "metadata": {
    "jp-MarkdownHeadingCollapsed": true,
    "tags": []
   },
   "source": [
    "## The Actual Alignment\n",
    "Perform the alignment and get the galaxy major axis orientation.</br>\n",
    "We also get the intermediate and minor axes, but these are just random perpendicular vectors"
   ]
  },
  {
   "cell_type": "code",
   "execution_count": 7,
   "id": "6097a6e0-0353-4e41-884e-24cf6a3f6df9",
   "metadata": {},
   "outputs": [],
   "source": [
    "# Don't forget to use the proper mask\n",
    "# This way, we are only passing in the values needed for aligning the centrals or satellites\n",
    "cen_major, cen_inter, cen_minor = align_to_halo( halo_axisA_x[central_mask], halo_axisA_y[central_mask], halo_axisA_z[central_mask],\n",
    "                                                 central_alignment_strength, prim_gal_axis=\"A\" )\n",
    "\n",
    "sat_major, sat_inter, sat_minor = align_radially( halo_x[~central_mask], halo_y[~central_mask], halo_z[~central_mask], \n",
    "                                                     x[~central_mask], y[~central_mask], z[~central_mask], \n",
    "                                                     Lbox, satellite_alignment_strength, prim_gal_axis=\"A\" )"
   ]
  },
  {
   "cell_type": "code",
   "execution_count": 20,
   "id": "0160dd4c",
   "metadata": {},
   "outputs": [
    {
     "data": {
      "text/plain": [
       "array([[-0.0046144 ,  0.49676933, -0.86787035]])"
      ]
     },
     "execution_count": 20,
     "metadata": {},
     "output_type": "execute_result"
    }
   ],
   "source": [
    "cen_major"
   ]
  },
  {
   "cell_type": "markdown",
   "id": "b9af8f22-d092-4909-8865-3352e8dbd0ec",
   "metadata": {
    "jp-MarkdownHeadingCollapsed": true,
    "tags": []
   },
   "source": [
    "## Project"
   ]
  },
  {
   "cell_type": "code",
   "execution_count": 37,
   "id": "08519aa4-7385-471b-bfd8-642a59899ece",
   "metadata": {},
   "outputs": [],
   "source": [
    "# First, get the positions (just split up what we grabbed earlier)\n",
    "# We want these as a 2D array. First column has x, second column has y, third column has z\n",
    "cen_coords = np.array( [x[central_mask], y[central_mask], z[central_mask]] ).T\n",
    "sat_coords = np.array( [x[~central_mask], y[~central_mask], z[~central_mask]] ).T\n",
    "\n",
    "# Now project onto the plane perpendicular to the line of sight\n",
    "# Along with this projection, we will the get vertical and horizontal axes of that plane\n",
    "# where vertical is the projection of the North Celestial Pole (NCP) and the horizontal is West\n",
    "cen_projected_axes, cen_north, cen_west = project_alignments_with_NCP( cen_major, cen_coords )\n",
    "sat_projected_axes, sat_north, sat_west = project_alignments_with_NCP( sat_major, sat_coords )"
   ]
  },
  {
   "cell_type": "code",
   "execution_count": 38,
   "id": "9b7a8166",
   "metadata": {},
   "outputs": [
    {
     "data": {
      "text/plain": [
       "array([[-0.49678961, -0.66231051]])"
      ]
     },
     "execution_count": 38,
     "metadata": {},
     "output_type": "execute_result"
    }
   ],
   "source": [
    "cen_projected_axes"
   ]
  },
  {
   "cell_type": "markdown",
   "id": "70691cfb-5ad0-4b78-b370-20fea32c7c78",
   "metadata": {},
   "source": [
    "## Get Position Angles\n",
    "Finally, now that we have projected, our 2D orientation can be represented simply as the position angle taken counterclockwise with</br>\n",
    "respect to the NCP"
   ]
  },
  {
   "cell_type": "code",
   "execution_count": 39,
   "id": "130d9544-1836-4a9b-bb18-9df53917be28",
   "metadata": {},
   "outputs": [],
   "source": [
    "cen_phi = get_position_angle(cen_projected_axes)\n",
    "sat_phi = get_position_angle(sat_projected_axes)"
   ]
  },
  {
   "cell_type": "markdown",
   "id": "bffa13f3-7206-4698-ada8-a6e94761f209",
   "metadata": {},
   "source": [
    "With these angles, we have our 2D alignment. If youhave a list of galaxy ellipticities, you can get e1 and e2 using that and this position angle."
   ]
  },
  {
   "cell_type": "code",
   "execution_count": 40,
   "id": "c0668e85-1aaf-442d-862a-2fff2a8cdab8",
   "metadata": {},
   "outputs": [
    {
     "data": {
      "text/plain": [
       "array([2.49803673])"
      ]
     },
     "execution_count": 40,
     "metadata": {},
     "output_type": "execute_result"
    }
   ],
   "source": [
    "cen_phi"
   ]
  },
  {
   "cell_type": "code",
   "execution_count": 31,
   "id": "ac0831e3",
   "metadata": {},
   "outputs": [
    {
     "data": {
      "text/plain": [
       "array([[0., 0.],\n",
       "       [0., 0.],\n",
       "       [0., 0.]])"
      ]
     },
     "execution_count": 31,
     "metadata": {},
     "output_type": "execute_result"
    }
   ],
   "source": [
    "cen_projected_axes"
   ]
  },
  {
   "cell_type": "code",
   "execution_count": null,
   "id": "2328ebb0",
   "metadata": {},
   "outputs": [],
   "source": []
  }
 ],
 "metadata": {
  "kernelspec": {
   "display_name": "Python 3 (ipykernel)",
   "language": "python",
   "name": "python3"
  },
  "language_info": {
   "codemirror_mode": {
    "name": "ipython",
    "version": 3
   },
   "file_extension": ".py",
   "mimetype": "text/x-python",
   "name": "python",
   "nbconvert_exporter": "python",
   "pygments_lexer": "ipython3",
   "version": "3.9.13"
  }
 },
 "nbformat": 4,
 "nbformat_minor": 5
}
